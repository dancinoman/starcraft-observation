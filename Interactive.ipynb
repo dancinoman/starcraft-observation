{
 "cells": [
  {
   "cell_type": "markdown",
   "id": "6930ba8a-d2ae-41a1-a5c7-2a3427c6fa76",
   "metadata": {},
   "source": [
    "# Starcraft interactive answer for B"
   ]
  },
  {
   "cell_type": "markdown",
   "id": "df168612-3690-4d5f-9eb7-7e4b87ddf4cb",
   "metadata": {},
   "source": [
    "Your team’s Starcraft2 coaching staff loved your project! They think this is perfect for scouting rising stars. Using your discoveries from (3), create a function to find players who should be given a chance to become professionals."
   ]
  },
  {
   "cell_type": "markdown",
   "id": "2b3ee8ed-1e30-4478-98d3-0aa7a842ee18",
   "metadata": {},
   "source": [
    "# Import libraries\n"
   ]
  },
  {
   "cell_type": "code",
   "execution_count": 1,
   "id": "1d944e4c-43fb-4af5-bde2-6eb52242e159",
   "metadata": {},
   "outputs": [],
   "source": [
    "import ipywidgets as widgets\n",
    "from IPython.display import display\n",
    "import pandas as pd"
   ]
  },
  {
   "cell_type": "markdown",
   "id": "618a66bf-5351-4e6a-98bd-ab2e4595c5cb",
   "metadata": {},
   "source": [
    "# Load and clean data"
   ]
  },
  {
   "cell_type": "code",
   "execution_count": 2,
   "id": "eb65f67f-13e3-4c10-a048-d102fb07e8c7",
   "metadata": {},
   "outputs": [],
   "source": [
    "def clean(data):\n",
    "    \"\"\" Clean datat to remove question mark charters found in dataset\"\"\"\n",
    "    \n",
    "    columns = ['Age', 'HoursPerWeek', 'TotalHours']\n",
    "    data[columns] = data[columns].apply(pd.to_numeric, errors='coerce', axis = 1)\n",
    "    data.dropna(subset=['Age', 'HoursPerWeek', 'TotalHours'] , inplace= True)\n",
    "    \n",
    "    return data\n",
    "\n",
    "sc_data = pd.read_csv('data/starcraft_player_data.csv')\n",
    "sc_data = clean(sc_data)"
   ]
  },
  {
   "cell_type": "markdown",
   "id": "c879471b-ac28-4dbc-a8a7-02a3e50621a9",
   "metadata": {},
   "source": [
    "# Interface of performance observation"
   ]
  },
  {
   "cell_type": "code",
   "execution_count": 3,
   "id": "8a026be1-6ef0-4a0b-9f22-2f048117e040",
   "metadata": {},
   "outputs": [
    {
     "name": "stdout",
     "output_type": "stream",
     "text": [
      "1-Bronze\n",
      "2-Silver\n",
      "3-Gold\n",
      "4-Platinum\n",
      "5-Diamond\n",
      "6-Master\n",
      "7-GrandMaster\n",
      "\n",
      "Choose the target league you want to know of how much hours experience is needed on average.\n"
     ]
    },
    {
     "data": {
      "application/vnd.jupyter.widget-view+json": {
       "model_id": "8c125ad5c819450d84839486a9b995e7",
       "version_major": 2,
       "version_minor": 0
      },
      "text/plain": [
       "IntSlider(value=3, description='Rank', max=7, min=1)"
      ]
     },
     "metadata": {},
     "output_type": "display_data"
    },
    {
     "data": {
      "application/vnd.jupyter.widget-view+json": {
       "model_id": "1283d38429d549188f6dc6cb1e94834e",
       "version_major": 2,
       "version_minor": 0
      },
      "text/plain": [
       "Output()"
      ]
     },
     "metadata": {},
     "output_type": "display_data"
    }
   ],
   "source": [
    "# Among players Total of hours is the most relevant as it reveals commitment and should be considered.\n",
    "# APM is also added as a relevant performance to get to the desired rank.\n",
    "\n",
    "\n",
    "\n",
    "\n",
    "\"\"\" Deploys an interface to check hours on average that players have on each rank. The most \n",
    "    important one is the experience accumulated to get a better rank. Choose a rank as a target and get \n",
    "    the hours needed on average to reach it.\n",
    "\n",
    "    return: Hours (float)\"\"\"\n",
    "\n",
    "league_index = ['Bronze', 'Silver', 'Gold', 'Platinum', 'Diamond', 'Master', 'GrandMaster']\n",
    "\n",
    "for i,league in enumerate(league_index, start=1):\n",
    "    print(f'{i}-{league}')\n",
    "\n",
    "print('\\nChoose the target league you want to know of how much hours experience is needed on average.')\n",
    "\n",
    "out = widgets.Output()\n",
    "\n",
    "@out.capture()\n",
    "def on_change(change):\n",
    "    index = change['new']\n",
    "    filter_index = sc_data['LeagueIndex'] == index\n",
    "    mean_hours = sc_data[filter_index]['TotalHours'].mean()\n",
    "    mean_apm = sc_data[filter_index]['APM'].mean()\n",
    "    msg = f'Average of experience is {mean_hours:.2f} hours and action per minutes of {mean_apm:.2f} to get {league_index[index-1]} rank.'\n",
    "    print(msg.ljust(200 - len(msg), ' '), end='\\r')\n",
    "    \n",
    "w = widgets.IntSlider(\n",
    "    value = 3,\n",
    "    min = 1,\n",
    "    max = 7,\n",
    "    step = 1,\n",
    "    description = 'Rank',\n",
    "    continuous_update= True\n",
    ")\n",
    "# See Interactive.ipynb\n",
    "w.observe(on_change, names= 'value')\n",
    "display(w)\n",
    "display(out)"
   ]
  },
  {
   "cell_type": "code",
   "execution_count": null,
   "id": "07ea24da-91ea-48b6-8699-77e6ff70cb45",
   "metadata": {},
   "outputs": [],
   "source": []
  }
 ],
 "metadata": {
  "kernelspec": {
   "display_name": "Python 3 (ipykernel)",
   "language": "python",
   "name": "python3"
  },
  "language_info": {
   "codemirror_mode": {
    "name": "ipython",
    "version": 3
   },
   "file_extension": ".py",
   "mimetype": "text/x-python",
   "name": "python",
   "nbconvert_exporter": "python",
   "pygments_lexer": "ipython3",
   "version": "3.10.6"
  }
 },
 "nbformat": 4,
 "nbformat_minor": 5
}
